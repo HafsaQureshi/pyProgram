{
 "cells": [
  {
   "cell_type": "code",
   "execution_count": 1,
   "id": "2b09ba36",
   "metadata": {},
   "outputs": [
    {
     "name": "stdout",
     "output_type": "stream",
     "text": [
      "Please select operation -\n",
      "1. Add\n",
      "2. Subtract\n",
      "3. Multiply\n",
      "4. Divide\n",
      "\n",
      "Select operations form 1, 2, 3, 4 :3\n",
      "Enter first number: 3\n",
      "Enter second number: 4\n",
      "3 * 4 = 12\n"
     ]
    }
   ],
   "source": [
    "# Python program for simple calculator\n",
    "\n",
    "# Function to add two numbers\n",
    "def add(num1, num2):\n",
    "\treturn num1 + num2\n",
    "\n",
    "# Function to subtract two numbers\n",
    "def subtract(num1, num2):\n",
    "\treturn num1 - num2\n",
    "\n",
    "# Function to multiply two numbers\n",
    "def multiply(num1, num2):\n",
    "\treturn num1 * num2\n",
    "\n",
    "# Function to divide two numbers\n",
    "def divide(num1, num2):\n",
    "\treturn num1 / num2\n",
    "\n",
    "print(\"Please select operation -\\n\" \\\n",
    "\t\t\"1. Add\\n\" \\\n",
    "\t\t\"2. Subtract\\n\" \\\n",
    "\t\t\"3. Multiply\\n\" \\\n",
    "\t\t\"4. Divide\\n\")\n",
    "\n",
    "\n",
    "# Take input from the user\n",
    "select = int(input(\"Select operations form 1, 2, 3, 4 :\"))\n",
    "\n",
    "number_1 = int(input(\"Enter first number: \"))\n",
    "number_2 = int(input(\"Enter second number: \"))\n",
    "\n",
    "if select == 1:\n",
    "\tprint(number_1, \"+\", number_2, \"=\",\n",
    "\t\t\t\t\tadd(number_1, number_2))\n",
    "\n",
    "elif select == 2:\n",
    "\tprint(number_1, \"-\", number_2, \"=\",\n",
    "\t\t\t\t\tsubtract(number_1, number_2))\n",
    "\n",
    "elif select == 3:\n",
    "\tprint(number_1, \"*\", number_2, \"=\",\n",
    "\t\t\t\t\tmultiply(number_1, number_2))\n",
    "\n",
    "elif select == 4:\n",
    "\tprint(number_1, \"/\", number_2, \"=\",\n",
    "\t\t\t\t\tdivide(number_1, number_2))\n",
    "else:\n",
    "\tprint(\"Invalid input\")\n"
   ]
  },
  {
   "cell_type": "code",
   "execution_count": 7,
   "id": "f4baf5d7",
   "metadata": {},
   "outputs": [
    {
     "name": "stdout",
     "output_type": "stream",
     "text": [
      "Found an int!\n"
     ]
    }
   ],
   "source": [
    " my_list = [ 'foo', 'bar', '40', 'jar', 'baz' ] \n",
    ">>> for thing in my_list: \n",
    "...     try: \n",
    "...         _ = int(thing) \n",
    "...         print('Found an int!') \n",
    "...         break \n",
    "...     except: \n",
    "...         pass "
   ]
  },
  {
   "cell_type": "code",
   "execution_count": 8,
   "id": "f49c2d79",
   "metadata": {},
   "outputs": [
    {
     "name": "stdout",
     "output_type": "stream",
     "text": [
      "Given Dictionary :  {'1': 1, '2': 2, '3': 3, '4': 4, '5': 5}\n",
      "values  dict_values([1, 2, 3, 4, 5])\n",
      "Sum of all the values in the dictionary is :  15\n"
     ]
    }
   ],
   "source": [
    "# some all the numeric item in the dictionary\n",
    "my_dictionary = {'1' : 1,'2' : 2,'3' : 3,'4' : 4,'5' : 5}\n",
    "\n",
    "print(\"Given Dictionary : \",my_dictionary)\n",
    "print(\"values \",my_dictionary.values())\n",
    "\n",
    "sum_values = sum(my_dictionary.values())\n",
    "\n",
    "print(\"Sum of all the values in the dictionary is : \",sum_values)\n"
   ]
  },
  {
   "cell_type": "code",
   "execution_count": 9,
   "id": "3a6de89d",
   "metadata": {},
   "outputs": [
    {
     "name": "stdout",
     "output_type": "stream",
     "text": [
      "Given Dictionary :  {'1': 1, '2': 2, '3': 3, '4': 4, '5': 5}\n",
      "values  dict_values([1, 2, 3, 4, 5])\n",
      "Sum of all the values in the dictionary is :  15\n",
      "updated Dictionary :  {'1': 1, '2': 2, '3': 3, '4': 4, '5': 5, '8': 6}\n"
     ]
    }
   ],
   "source": [
    "# Add a key to dictionary\n",
    "my_dictionary = {'1' : 1,'2' : 2,'3' : 3,'4' : 4,'5' : 5}\n",
    "\n",
    "print(\"Given Dictionary : \",my_dictionary)\n",
    "print(\"values \",my_dictionary.values())\n",
    "\n",
    "sum_values = sum(my_dictionary.values())\n",
    "\n",
    "print(\"Sum of all the values in the dictionary is : \",sum_values)\n",
    "my_dictionary.update ({'8' : 6})\n",
    "print(\"updated Dictionary : \",my_dictionary)"
   ]
  },
  {
   "cell_type": "code",
   "execution_count": 10,
   "id": "7089695e",
   "metadata": {},
   "outputs": [
    {
     "name": "stdout",
     "output_type": "stream",
     "text": [
      "Duplicate integeres:  [10, 30, -10, -20, 'bar', 5]\n"
     ]
    }
   ],
   "source": [
    "# print duplicates from a list \n",
    "\n",
    "#function\n",
    "def duplicate(li):\n",
    "    n=len(li)\n",
    "    dup=[]\n",
    "    for i in range(n):\n",
    "        k = i + 1\n",
    "        for j in range(k,n):\n",
    "            if li[i] == li[j] and li[i] not in dup:\n",
    "                dup.append(li[i])\n",
    "    return dup\n",
    "\n",
    "#test\n",
    "li=[ 10, 20, 30, -10, -20, 10, 80, -10, -20, 30, 'bar', 'jar','1', 'bar', 5, 5]\n",
    "print(\"Duplicate integeres: \",duplicate(li))"
   ]
  },
  {
   "cell_type": "code",
   "execution_count": 11,
   "id": "15542b63",
   "metadata": {},
   "outputs": [
    {
     "name": "stdout",
     "output_type": "stream",
     "text": [
      "The given dictionary :  {'Mon': 3, 'Tue': 5, 'Wed': 6, 'Thu': 9}\n",
      "Wed is Present.\n"
     ]
    }
   ],
   "source": [
    "# if key is present in a dictionary or not\n",
    "Adict = {'Mon':3,'Tue':5,'Wed':6,'Thu':9}\n",
    "print(\"The given dictionary : \",Adict)\n",
    "check_key = \"Wed\"\n",
    "if check_key in Adict.keys():\n",
    "   print(check_key,\"is Present.\")\n",
    "else:\n",
    "   print(check_key, \" is not Present.\")"
   ]
  },
  {
   "cell_type": "code",
   "execution_count": 15,
   "id": "caa67ecf",
   "metadata": {},
   "outputs": [
    {
     "name": "stdout",
     "output_type": "stream",
     "text": [
      "Enter key to check:2\n",
      "Key isn't present!\n"
     ]
    }
   ],
   "source": [
    "d={'A': 1,'B': 2,'C': 3}\n",
    "key=input(\"Enter key to check:\")\n",
    "if key in d.keys():\n",
    "      print(\"Key is present and value of the key is:\")\n",
    "      print(d[key])\n",
    "else:\n",
    "      print(\"Key isn't present!\")"
   ]
  },
  {
   "cell_type": "code",
   "execution_count": null,
   "id": "b80bc5e7",
   "metadata": {},
   "outputs": [],
   "source": []
  },
  {
   "cell_type": "code",
   "execution_count": null,
   "id": "36b47ddf",
   "metadata": {},
   "outputs": [],
   "source": []
  }
 ],
 "metadata": {
  "kernelspec": {
   "display_name": "Python 3",
   "language": "python",
   "name": "python3"
  },
  "language_info": {
   "codemirror_mode": {
    "name": "ipython",
    "version": 3
   },
   "file_extension": ".py",
   "mimetype": "text/x-python",
   "name": "python",
   "nbconvert_exporter": "python",
   "pygments_lexer": "ipython3",
   "version": "3.8.8"
  }
 },
 "nbformat": 4,
 "nbformat_minor": 5
}
